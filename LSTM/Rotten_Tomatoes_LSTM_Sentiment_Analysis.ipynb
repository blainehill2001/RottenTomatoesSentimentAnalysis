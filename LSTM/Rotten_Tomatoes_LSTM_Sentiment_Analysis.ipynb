{
  "nbformat": 4,
  "nbformat_minor": 0,
  "metadata": {
    "colab": {
      "name": "Sentiment Analysis.ipynb",
      "provenance": [],
      "collapsed_sections": []
    },
    "kernelspec": {
      "name": "python3",
      "display_name": "Python 3"
    },
    "language_info": {
      "name": "python"
    },
    "accelerator": "GPU"
  },
  "cells": [
    {
      "cell_type": "code",
      "source": [
        "import pandas as pd\n",
        "import numpy as np\n",
        "from collections import Counter\n",
        "import ast\n",
        "import math\n",
        "import csv\n",
        "import tensorflow as tf\n",
        "import keras\n",
        "from keras.utils import np_utils\n",
        "\n",
        "# from tensorflow.keras.preprocessing.text import Tokenizer\n",
        "# from tensorflow.keras.preprocessing.sequence import pad_sequences\n",
        "from tensorflow.keras.models import Sequential\n",
        "from tensorflow.keras.layers import (\n",
        "    Dense,\n",
        "    Flatten,\n",
        "    LSTM,\n",
        "    Dropout,\n",
        "    Activation,\n",
        "    Embedding,\n",
        "    Bidirectional,\n",
        ")\n",
        "\n",
        "# import and read data\n",
        "full_reviews = pd.read_csv(\n",
        "    \"/content/train_cleaned.csv\",\n",
        ")\n",
        "\n",
        "\n",
        "master_counter = Counter(\"\")\n",
        "\n",
        "\n",
        "def update_master(x):\n",
        "    x = ast.literal_eval(x)\n",
        "    for word in list(x):\n",
        "        master_counter.update([word])\n",
        "\n",
        "\n",
        "full_reviews[\"Phrase\"].apply(lambda x: update_master(x))\n",
        "number_of_words_total = sum(master_counter.values())\n",
        "sorted_words = master_counter.most_common(number_of_words_total)\n",
        "\n",
        "vocab_to_int = {w: i + 1 for i, (w, c) in enumerate(sorted_words)}\n",
        "\n",
        "reviews_int = []\n",
        "sentiments = []\n",
        "for index, row in full_reviews.iterrows():\n",
        "    review = row[\"Phrase\"]\n",
        "    sentiment = row[\"Sentiment\"]\n",
        "    r = [vocab_to_int[w] for w in list(ast.literal_eval(review))]\n",
        "    reviews_int.append(r)\n",
        "    sentiments.append(sentiment)\n",
        "\n",
        "\n",
        "def pad_features(reviews_int, seq_length):\n",
        "    \"\"\"Return features of review_ints, where each review is padded with 0's or truncated to the input seq_length.\"\"\"\n",
        "    features = np.zeros((len(reviews_int), seq_length), dtype=int)\n",
        "\n",
        "    for i, review in enumerate(reviews_int):\n",
        "        review_len = len(review)\n",
        "\n",
        "        if review_len <= seq_length:\n",
        "            zeroes = list(np.zeros(seq_length - review_len))\n",
        "            new = zeroes + review\n",
        "        elif review_len > seq_length:\n",
        "            new = review[0:seq_length]\n",
        "\n",
        "        features[i, :] = np.array(new)\n",
        "\n",
        "    return features\n",
        "\n",
        "\n",
        "features = pad_features(reviews_int, 20)\n",
        "len_feat = len(features)\n",
        "\n",
        "\n",
        "# we need to encode 0,1,2,3,4 sentiments as one hot encodings: [1,0,0,0,0], [0,1,0,0,0], etc.\n",
        "encoded_labels = np.array(sentiments)\n",
        "# temp_labels = np.array(sentiments)\n",
        "# encoded_labels = np.eye(5)[temp_labels.reshape(-1)]\n",
        "\n",
        "split_frac = 0.8\n",
        "train_x = features[0 : int(split_frac * len_feat)]\n",
        "train_y = encoded_labels[0 : int(split_frac * len_feat)]\n",
        "remaining_x = features[int(split_frac * len_feat) :]\n",
        "remaining_y = encoded_labels[int(split_frac * len_feat) :]\n",
        "valid_x = remaining_x[0 : int(len(remaining_x) * 0.5)]\n",
        "valid_y = remaining_y[0 : int(len(remaining_y) * 0.5)]\n",
        "test_x = remaining_x[int(len(remaining_x) * 0.5) :]\n",
        "test_y = remaining_y[int(len(remaining_y) * 0.5) :]\n",
        "\n",
        "\n",
        "vocab_size = len(vocab_to_int) + 1  # +1 for the 0 padding\n",
        "output_size = 5\n",
        "embedding_dim = math.ceil(vocab_size**0.25)\n",
        "hidden_dim = 16\n",
        "num_epochs = 10\n",
        "lr = 0.001\n",
        "\n",
        "model = Sequential()\n",
        "\n",
        "model.add(Embedding(vocab_size, embedding_dim))\n",
        "model.add(Dropout(0.5))\n",
        "model.add(Bidirectional(LSTM(embedding_dim)))\n",
        "model.add(Dense(output_size, activation=\"softmax\", kernel_regularizer='l2'))\n",
        "\n",
        "model.summary()\n",
        "\n",
        "opt = tf.keras.optimizers.Adam(learning_rate=lr, decay=1e-6)\n",
        "model.compile(\n",
        "    loss=\"sparse_categorical_crossentropy\",\n",
        "    optimizer=opt,\n",
        "    metrics=[\"accuracy\"],\n",
        ")\n",
        "\n",
        "history = model.fit(\n",
        "    train_x, train_y, epochs=num_epochs, batch_size=16, validation_data=(valid_x, valid_y), verbose=2\n",
        ")"
      ],
      "metadata": {
        "colab": {
          "base_uri": "https://localhost:8080/"
        },
        "id": "AZPTq9AJ97n6",
        "outputId": "0ad28401-f665-440d-ea0f-a1eadc5a940a"
      },
      "execution_count": null,
      "outputs": [
        {
          "output_type": "stream",
          "name": "stdout",
          "text": [
            "Model: \"sequential_43\"\n",
            "_________________________________________________________________\n",
            " Layer (type)                Output Shape              Param #   \n",
            "=================================================================\n",
            " embedding_43 (Embedding)    (None, None, 11)          149116    \n",
            "                                                                 \n",
            " dropout_47 (Dropout)        (None, None, 11)          0         \n",
            "                                                                 \n",
            " bidirectional_45 (Bidirecti  (None, 22)               2024      \n",
            " onal)                                                           \n",
            "                                                                 \n",
            " dense_65 (Dense)            (None, 5)                 115       \n",
            "                                                                 \n",
            "=================================================================\n",
            "Total params: 151,255\n",
            "Trainable params: 151,255\n",
            "Non-trainable params: 0\n",
            "_________________________________________________________________\n",
            "Epoch 1/10\n",
            "426/426 - 9s - loss: 1.6073 - accuracy: 0.2664 - val_loss: 1.5825 - val_accuracy: 0.2797 - 9s/epoch - 22ms/step\n",
            "Epoch 2/10\n",
            "426/426 - 5s - loss: 1.5616 - accuracy: 0.3047 - val_loss: 1.5502 - val_accuracy: 0.2985 - 5s/epoch - 12ms/step\n",
            "Epoch 3/10\n",
            "426/426 - 6s - loss: 1.3635 - accuracy: 0.4482 - val_loss: 1.4706 - val_accuracy: 0.3807 - 6s/epoch - 13ms/step\n",
            "Epoch 4/10\n",
            "426/426 - 5s - loss: 1.1291 - accuracy: 0.5738 - val_loss: 1.5197 - val_accuracy: 0.3690 - 5s/epoch - 11ms/step\n",
            "Epoch 5/10\n",
            "426/426 - 5s - loss: 0.9792 - accuracy: 0.6478 - val_loss: 1.6004 - val_accuracy: 0.3643 - 5s/epoch - 11ms/step\n",
            "Epoch 6/10\n",
            "426/426 - 5s - loss: 0.8730 - accuracy: 0.7070 - val_loss: 1.6842 - val_accuracy: 0.3431 - 5s/epoch - 11ms/step\n",
            "Epoch 7/10\n",
            "426/426 - 5s - loss: 0.7719 - accuracy: 0.7543 - val_loss: 1.7206 - val_accuracy: 0.3537 - 5s/epoch - 11ms/step\n",
            "Epoch 8/10\n",
            "426/426 - 5s - loss: 0.7182 - accuracy: 0.7713 - val_loss: 1.8383 - val_accuracy: 0.3525 - 5s/epoch - 11ms/step\n",
            "Epoch 9/10\n",
            "426/426 - 5s - loss: 0.6624 - accuracy: 0.7963 - val_loss: 1.8468 - val_accuracy: 0.3467 - 5s/epoch - 11ms/step\n",
            "Epoch 10/10\n",
            "426/426 - 6s - loss: 0.6230 - accuracy: 0.8136 - val_loss: 1.8937 - val_accuracy: 0.3619 - 6s/epoch - 13ms/step\n"
          ]
        }
      ]
    },
    {
      "cell_type": "code",
      "source": [
        "import matplotlib.pyplot as plt\n",
        "\n",
        "def plot_graphs(history, string):\n",
        "  plt.plot(history.history[string])\n",
        "  plt.plot(history.history['val_'+string])\n",
        "  plt.xlabel(\"Epochs\")\n",
        "  plt.ylabel(string)\n",
        "  plt.legend([string, 'val_'+string])\n",
        "  plt.show()\n",
        "  \n",
        "plot_graphs(history, \"accuracy\")\n",
        "plot_graphs(history, \"loss\")"
      ],
      "metadata": {
        "colab": {
          "base_uri": "https://localhost:8080/",
          "height": 541
        },
        "id": "qSg7lkYsV5tZ",
        "outputId": "0899db2b-76f8-4954-da7b-0b56bf97c674"
      },
      "execution_count": null,
      "outputs": [
        {
          "output_type": "display_data",
          "data": {
            "text/plain": [
              "<Figure size 432x288 with 1 Axes>"
            ],
            "image/png": "[encoded data removed]"
          },
          "metadata": {
            "needs_background": "light"
          }
        },
        {
          "output_type": "display_data",
          "data": {
            "text/plain": [
              "<Figure size 432x288 with 1 Axes>"
            ],
            "image/png": "[encoded data removed]"
          },
          "metadata": {
            "needs_background": "light"
          }
        }
      ]
    },
    {
      "cell_type": "code",
      "source": [
        "print(\"Evaluate on test data\")\n",
        "results = model.evaluate(test_x, test_y, batch_size=16)\n",
        "print(\"test loss, test acc:\", results)"
      ],
      "metadata": {
        "colab": {
          "base_uri": "https://localhost:8080/"
        },
        "id": "OckzNlN5Ofay",
        "outputId": "4f9fda26-b429-40c3-b8d3-43633f40abf7"
      },
      "execution_count": null,
      "outputs": [
        {
          "output_type": "stream",
          "name": "stdout",
          "text": [
            "Evaluate on test data\n",
            "54/54 [==============================] - 0s 7ms/step - loss: 1.9118 - accuracy: 0.3756\n",
            "test loss, test acc: [1.911807656288147, 0.3755868673324585]\n"
          ]
        }
      ]
    }
  ]
}